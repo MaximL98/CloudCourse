{
  "nbformat": 4,
  "nbformat_minor": 0,
  "metadata": {
    "colab": {
      "provenance": [],
      "include_colab_link": true
    },
    "kernelspec": {
      "name": "python3",
      "display_name": "Python 3"
    },
    "language_info": {
      "name": "python"
    },
    "widgets": {
      "application/vnd.jupyter.widget-state+json": {
        "f1d37266e9444139bd357dcf27d85769": {
          "model_module": "@jupyter-widgets/controls",
          "model_name": "HTMLModel",
          "model_module_version": "1.5.0",
          "state": {
            "_dom_classes": [],
            "_model_module": "@jupyter-widgets/controls",
            "_model_module_version": "1.5.0",
            "_model_name": "HTMLModel",
            "_view_count": null,
            "_view_module": "@jupyter-widgets/controls",
            "_view_module_version": "1.5.0",
            "_view_name": "HTMLView",
            "description": "",
            "description_tooltip": null,
            "layout": "IPY_MODEL_4cbc155439ef4224820419e28c97aef2",
            "placeholder": "​",
            "style": "IPY_MODEL_7793f01bee3d4a2a831eef6a72ba02e5",
            "value": "\n        <h1>Welcome To The Python Quiz!</h1>\n        <h2>Your Score is: 0</h2>\n        "
          }
        },
        "4cbc155439ef4224820419e28c97aef2": {
          "model_module": "@jupyter-widgets/base",
          "model_name": "LayoutModel",
          "model_module_version": "1.2.0",
          "state": {
            "_model_module": "@jupyter-widgets/base",
            "_model_module_version": "1.2.0",
            "_model_name": "LayoutModel",
            "_view_count": null,
            "_view_module": "@jupyter-widgets/base",
            "_view_module_version": "1.2.0",
            "_view_name": "LayoutView",
            "align_content": null,
            "align_items": null,
            "align_self": null,
            "border": null,
            "bottom": null,
            "display": null,
            "flex": null,
            "flex_flow": null,
            "grid_area": null,
            "grid_auto_columns": null,
            "grid_auto_flow": null,
            "grid_auto_rows": null,
            "grid_column": null,
            "grid_gap": null,
            "grid_row": null,
            "grid_template_areas": null,
            "grid_template_columns": null,
            "grid_template_rows": null,
            "height": null,
            "justify_content": null,
            "justify_items": null,
            "left": null,
            "margin": null,
            "max_height": null,
            "max_width": null,
            "min_height": null,
            "min_width": null,
            "object_fit": null,
            "object_position": null,
            "order": null,
            "overflow": null,
            "overflow_x": null,
            "overflow_y": null,
            "padding": null,
            "right": null,
            "top": null,
            "visibility": null,
            "width": null
          }
        },
        "7793f01bee3d4a2a831eef6a72ba02e5": {
          "model_module": "@jupyter-widgets/controls",
          "model_name": "DescriptionStyleModel",
          "model_module_version": "1.5.0",
          "state": {
            "_model_module": "@jupyter-widgets/controls",
            "_model_module_version": "1.5.0",
            "_model_name": "DescriptionStyleModel",
            "_view_count": null,
            "_view_module": "@jupyter-widgets/base",
            "_view_module_version": "1.2.0",
            "_view_name": "StyleView",
            "description_width": ""
          }
        }
      }
    }
  },
  "cells": [
    {
      "cell_type": "markdown",
      "metadata": {
        "id": "view-in-github",
        "colab_type": "text"
      },
      "source": [
        "<a href=\"https://colab.research.google.com/github/MaximL98/CloudCourse/blob/master/Tutorial_6_FireBase2.ipynb\" target=\"_parent\"><img src=\"https://colab.research.google.com/assets/colab-badge.svg\" alt=\"Open In Colab\"/></a>"
      ]
    },
    {
      "cell_type": "code",
      "execution_count": 1,
      "metadata": {
        "colab": {
          "base_uri": "https://localhost:8080/"
        },
        "id": "shLJl9Foizeb",
        "outputId": "07733f57-606e-489e-fc09-1d0d52832dea"
      },
      "outputs": [
        {
          "output_type": "stream",
          "name": "stdout",
          "text": [
            "Looking in indexes: https://pypi.org/simple, https://us-python.pkg.dev/colab-wheels/public/simple/\n",
            "Collecting firebase\n",
            "  Downloading firebase-4.0.1-py3-none-any.whl (12 kB)\n",
            "Requirement already satisfied: requests in /usr/local/lib/python3.10/dist-packages (from firebase) (2.27.1)\n",
            "Requirement already satisfied: urllib3<1.27,>=1.21.1 in /usr/local/lib/python3.10/dist-packages (from requests->firebase) (1.26.15)\n",
            "Requirement already satisfied: certifi>=2017.4.17 in /usr/local/lib/python3.10/dist-packages (from requests->firebase) (2022.12.7)\n",
            "Requirement already satisfied: charset-normalizer~=2.0.0 in /usr/local/lib/python3.10/dist-packages (from requests->firebase) (2.0.12)\n",
            "Requirement already satisfied: idna<4,>=2.5 in /usr/local/lib/python3.10/dist-packages (from requests->firebase) (3.4)\n",
            "Installing collected packages: firebase\n",
            "Successfully installed firebase-4.0.1\n"
          ]
        }
      ],
      "source": [
        "!pip install firebase"
      ]
    },
    {
      "cell_type": "code",
      "source": [],
      "metadata": {
        "id": "ec6zLQCjf7s8"
      },
      "execution_count": null,
      "outputs": []
    },
    {
      "cell_type": "code",
      "source": [
        "from firebase import firebase\n",
        "from string import ascii_uppercase\n",
        "from typing import List, Tuple\n",
        "from IPython.display import clear_output\n",
        "from ipywidgets import HTML\n",
        "\n",
        "# Initialize Firebase Realtime Database reference object\n",
        "FBconn = firebase.FirebaseApplication('https://cloudex06-default-rtdb.firebaseio.com/', None)\n",
        "\n",
        "# Get the total number of questions in the database\n",
        "def get_number_of_questions() -> int:\n",
        "    return len(FBconn.get('/questions', None))\n",
        "\n",
        "# Fetch a question and its correct answer from the database for a given index\n",
        "def get_question_and_answer(index: int) -> Tuple[str, str]:\n",
        "    question = FBconn.get('/questions/', f\"{index}/question\")\n",
        "    real_answer = FBconn.get('/questions/', f\"{index}/answer\")\n",
        "    return question, real_answer\n",
        "\n",
        "# Fetch a list of options for a question from the database for a given index\n",
        "def get_options(index: int) -> List[str]:\n",
        "    return FBconn.get('/questions/', f\"{index}/options\")\n",
        "\n",
        "# Print a question and its options\n",
        "def print_question_and_options(question: str, options: List[str]) -> None:\n",
        "    print(question)\n",
        "    print(\"The Options Are:\")\n",
        "    for option, char in zip(options, ascii_uppercase):\n",
        "        print(char + \". \" + option)\n",
        "\n",
        "# Main function for the quiz game\n",
        "def main() -> None:\n",
        "    i = 0\n",
        "    end_game = False\n",
        "    score = 0\n",
        "    number_of_questions = get_number_of_questions()\n",
        "    \n",
        "    # Run the quiz game loop\n",
        "    while i < number_of_questions and not end_game:\n",
        "        # Display the quiz header and current score using an HTML widget\n",
        "        html_content = \"\"\"\n",
        "        <h1>Welcome To The Python Quiz!</h1>\n",
        "        <h2>Your Score is: {}</h2>\n",
        "        \"\"\".format(score)\n",
        "        html_widget = HTML(value=html_content)\n",
        "        display(html_widget)\n",
        "\n",
        "        # Fetch and display a question and its options\n",
        "        question, real_answer = get_question_and_answer(i)\n",
        "        options = get_options(i)\n",
        "        print_question_and_options(question, options)\n",
        "\n",
        "        # Get the user's answer and check if it's correct\n",
        "        user_answer = str(input(\"Your answer: \"))\n",
        "        print(\"Your score is: \", score)\n",
        "        if real_answer == user_answer:\n",
        "            score += 1\n",
        "            print(\"\\nYou are correct\\n\")\n",
        "            clear_output()\n",
        "            if i == number_of_questions:\n",
        "                print(\"Good job you have finished this quiz!\")\n",
        "            i += 1\n",
        "        else:\n",
        "            clear_output()\n",
        "            print(\"You are wrong\")\n",
        "            break\n",
        "\n",
        "if __name__ == \"__main__\":\n",
        "    main()\n"
      ],
      "metadata": {
        "colab": {
          "base_uri": "https://localhost:8080/",
          "height": 307,
          "referenced_widgets": [
            "f1d37266e9444139bd357dcf27d85769",
            "4cbc155439ef4224820419e28c97aef2",
            "7793f01bee3d4a2a831eef6a72ba02e5"
          ]
        },
        "id": "JPu4td9CjzV_",
        "outputId": "eecfacef-43a7-4718-9b9d-9ef561f85155"
      },
      "execution_count": null,
      "outputs": [
        {
          "output_type": "display_data",
          "data": {
            "text/plain": [
              "HTML(value='\\n        <h1>Welcome To The Python Quiz!</h1>\\n        <h2>Your Score is: 0</h2>\\n        ')"
            ],
            "application/vnd.jupyter.widget-view+json": {
              "version_major": 2,
              "version_minor": 0,
              "model_id": "f1d37266e9444139bd357dcf27d85769"
            }
          },
          "metadata": {}
        },
        {
          "output_type": "stream",
          "name": "stdout",
          "text": [
            "What is the output of the following code?\n",
            "\n",
            "x = 5\n",
            "y = 3\n",
            "print(x + y)\n",
            "\n",
            "The Options Are:\n",
            "A. 8\n",
            "B. 15\n",
            "C. 2\n"
          ]
        }
      ]
    },
    {
      "cell_type": "code",
      "source": [],
      "metadata": {
        "id": "fgl53K8aqbGF"
      },
      "execution_count": null,
      "outputs": []
    }
  ]
}