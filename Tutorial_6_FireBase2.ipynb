{
  "nbformat": 4,
  "nbformat_minor": 0,
  "metadata": {
    "colab": {
      "provenance": [],
      "include_colab_link": true
    },
    "kernelspec": {
      "name": "python3",
      "display_name": "Python 3"
    },
    "language_info": {
      "name": "python"
    }
  },
  "cells": [
    {
      "cell_type": "markdown",
      "metadata": {
        "id": "view-in-github",
        "colab_type": "text"
      },
      "source": [
        "<a href=\"https://colab.research.google.com/github/MaximL98/CloudCourse/blob/master/Tutorial_6_FireBase2.ipynb\" target=\"_parent\"><img src=\"https://colab.research.google.com/assets/colab-badge.svg\" alt=\"Open In Colab\"/></a>"
      ]
    },
    {
      "cell_type": "code",
      "execution_count": 2,
      "metadata": {
        "colab": {
          "base_uri": "https://localhost:8080/"
        },
        "id": "shLJl9Foizeb",
        "outputId": "b8884dca-2b63-43d0-9d2b-807b6a3506c6"
      },
      "outputs": [
        {
          "output_type": "stream",
          "name": "stdout",
          "text": [
            "Looking in indexes: https://pypi.org/simple, https://us-python.pkg.dev/colab-wheels/public/simple/\n",
            "Collecting firebase\n",
            "  Downloading firebase-4.0.1-py3-none-any.whl (12 kB)\n",
            "Requirement already satisfied: requests in /usr/local/lib/python3.10/dist-packages (from firebase) (2.27.1)\n",
            "Requirement already satisfied: urllib3<1.27,>=1.21.1 in /usr/local/lib/python3.10/dist-packages (from requests->firebase) (1.26.15)\n",
            "Requirement already satisfied: certifi>=2017.4.17 in /usr/local/lib/python3.10/dist-packages (from requests->firebase) (2022.12.7)\n",
            "Requirement already satisfied: charset-normalizer~=2.0.0 in /usr/local/lib/python3.10/dist-packages (from requests->firebase) (2.0.12)\n",
            "Requirement already satisfied: idna<4,>=2.5 in /usr/local/lib/python3.10/dist-packages (from requests->firebase) (3.4)\n",
            "Installing collected packages: firebase\n",
            "Successfully installed firebase-4.0.1\n"
          ]
        }
      ],
      "source": [
        "!pip install firebase"
      ]
    },
    {
      "cell_type": "code",
      "source": [],
      "metadata": {
        "id": "ec6zLQCjf7s8"
      },
      "execution_count": null,
      "outputs": []
    },
    {
      "cell_type": "code",
      "source": [
        "from firebase import firebase\n",
        "from string import ascii_uppercase\n",
        "from typing import List, Tuple\n",
        "\n",
        "# Initialize Firebase Realtime Database reference object\n",
        "FBconn = firebase.FirebaseApplication('https://cloudex06-default-rtdb.firebaseio.com/', None)\n",
        "\n",
        "def get_number_of_questions() -> int:\n",
        "    return len(FBconn.get('/questions', None))\n",
        "\n",
        "def get_question_and_answer(index: int) -> Tuple[str, str]:\n",
        "    question = FBconn.get('/questions/', f\"{index}/question\")\n",
        "    real_answer = FBconn.get('/questions/', f\"{index}/answer\")\n",
        "    return question, real_answer\n",
        "\n",
        "def get_options(index: int) -> List[str]:\n",
        "    return FBconn.get('/questions/', f\"{index}/options\")\n",
        "\n",
        "def print_question_and_options(question: str, options: List[str]) -> None:\n",
        "    print(question)\n",
        "    print(\"The Options Are:\")\n",
        "    for option, char in zip(options, ascii_uppercase):\n",
        "        print(char + \". \" + option)\n",
        "\n",
        "def main() -> None:\n",
        "    i = 0\n",
        "    end_game = False\n",
        "    number_of_questions = get_number_of_questions()\n",
        "\n",
        "    while i < number_of_questions and not end_game:\n",
        "        question, real_answer = get_question_and_answer(i)\n",
        "        options = get_options(i)\n",
        "        print_question_and_options(question, options)\n",
        "\n",
        "        user_answer = str(input(\"Your answer: \"))\n",
        "        if real_answer == user_answer:\n",
        "            print(\"\\nYou are correct\\n\")\n",
        "            if i == number_of_questions:\n",
        "                print(\"Good job you have finished this quiz!\")\n",
        "            i += 1\n",
        "        else:\n",
        "            print(\"You are wrong\")\n",
        "            break\n",
        "\n",
        "if __name__ == \"__main__\":\n",
        "    main()\n"
      ],
      "metadata": {
        "colab": {
          "base_uri": "https://localhost:8080/"
        },
        "id": "JPu4td9CjzV_",
        "outputId": "5474ec1b-890d-44ec-fc43-e62a4464aae3"
      },
      "execution_count": null,
      "outputs": [
        {
          "output_type": "stream",
          "name": "stdout",
          "text": [
            "What is the output of the following code?\n",
            "\n",
            "x = 5\n",
            "y = 3\n",
            "print(x + y)\n",
            "\n",
            "The Options Are:\n",
            "A. 8\n",
            "B. 15\n",
            "C. 2\n",
            "Your answer: 8\n",
            "\n",
            "You are correct\n",
            "\n",
            "What is the output of the following code?\n",
            "\n",
            "x = \"Hello\"\n",
            "y = \"World\"\n",
            "print(x + y)\n",
            "\n",
            "The Options Are:\n",
            "A. Hello World\n",
            "B. HelloWorld\n",
            "C. Hello\n",
            "World\n"
          ]
        }
      ]
    },
    {
      "cell_type": "code",
      "source": [],
      "metadata": {
        "id": "fgl53K8aqbGF"
      },
      "execution_count": null,
      "outputs": []
    }
  ]
}