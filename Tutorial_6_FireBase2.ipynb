{
  "nbformat": 4,
  "nbformat_minor": 0,
  "metadata": {
    "colab": {
      "provenance": [],
      "authorship_tag": "ABX9TyPmQfMWRHRa6FmypLHp6OHh",
      "include_colab_link": true
    },
    "kernelspec": {
      "name": "python3",
      "display_name": "Python 3"
    },
    "language_info": {
      "name": "python"
    }
  },
  "cells": [
    {
      "cell_type": "markdown",
      "metadata": {
        "id": "view-in-github",
        "colab_type": "text"
      },
      "source": [
        "<a href=\"https://colab.research.google.com/github/MaximL98/CloudCourse/blob/master/Tutorial_6_FireBase2.ipynb\" target=\"_parent\"><img src=\"https://colab.research.google.com/assets/colab-badge.svg\" alt=\"Open In Colab\"/></a>"
      ]
    },
    {
      "cell_type": "code",
      "execution_count": 2,
      "metadata": {
        "colab": {
          "base_uri": "https://localhost:8080/"
        },
        "id": "shLJl9Foizeb",
        "outputId": "f3030345-1b39-4e58-d2bd-fb345af7c3d8"
      },
      "outputs": [
        {
          "output_type": "stream",
          "name": "stdout",
          "text": [
            "Looking in indexes: https://pypi.org/simple, https://us-python.pkg.dev/colab-wheels/public/simple/\n",
            "Collecting firebase\n",
            "  Downloading firebase-4.0.1-py3-none-any.whl (12 kB)\n",
            "Requirement already satisfied: requests in /usr/local/lib/python3.10/dist-packages (from firebase) (2.27.1)\n",
            "Requirement already satisfied: charset-normalizer~=2.0.0 in /usr/local/lib/python3.10/dist-packages (from requests->firebase) (2.0.12)\n",
            "Requirement already satisfied: idna<4,>=2.5 in /usr/local/lib/python3.10/dist-packages (from requests->firebase) (3.4)\n",
            "Requirement already satisfied: urllib3<1.27,>=1.21.1 in /usr/local/lib/python3.10/dist-packages (from requests->firebase) (1.26.15)\n",
            "Requirement already satisfied: certifi>=2017.4.17 in /usr/local/lib/python3.10/dist-packages (from requests->firebase) (2022.12.7)\n",
            "Installing collected packages: firebase\n",
            "Successfully installed firebase-4.0.1\n"
          ]
        }
      ],
      "source": [
        "!pip install firebase"
      ]
    },
    {
      "cell_type": "code",
      "source": [
        "from firebase import firebase\n",
        "from string import ascii_uppercase\n",
        "# Initialize Firebase Realtime Database reference object\n",
        "FBconn = firebase.FirebaseApplication('https://cloudex06-default-rtdb.firebaseio.com/',None)"
      ],
      "metadata": {
        "id": "ec6zLQCjf7s8"
      },
      "execution_count": 3,
      "outputs": []
    },
    {
      "cell_type": "code",
      "source": [
        "# Initialize variables\n",
        "i = 0\n",
        "endGame = False\n",
        "\n",
        "# Get the number of questions in the database\n",
        "numberOfQuestions = (len(FBconn.get('/questions', None)))\n",
        "\n",
        "# Loop through all the questions in the database\n",
        "while i<numberOfQuestions and endGame == False:\n",
        "  # Get the question text from the database\n",
        "  question = FBconn.get('/questions/', str(i) + \"/question\")\n",
        "\n",
        "  # Get the correct answer from the database\n",
        "  realAnswer = FBconn.get('/questions/', str(i) + \"/answer\")\n",
        "\n",
        "  # Print the question text to the console\n",
        "  print(question)\n",
        "\n",
        "  # Get the answer options from the database and print them to the console\n",
        "  options = FBconn.get('/questions/', str(i) + \"/options\")\n",
        "  print(\"The Options Are:\")\n",
        "  for option, char in zip(options, ascii_uppercase):\n",
        "    print(char + \". \" + option)\n",
        "\n",
        "  # Get the user's answer and check if it is correct\n",
        "  userAnswer = str(input(\"Your answer: \"))\n",
        "  if(realAnswer == userAnswer):\n",
        "    print(\"\\nYou are correct\\n\")\n",
        "    if(i == numberOfQuestions):\n",
        "      print(\"Good job you have finished this quiz!\")\n",
        "    i+=1\n",
        "  # If user's answer wrong, end game\n",
        "  else:\n",
        "    print(\"You are wrong\")\n",
        "    break"
      ],
      "metadata": {
        "colab": {
          "base_uri": "https://localhost:8080/"
        },
        "id": "JPu4td9CjzV_",
        "outputId": "d7e13208-28d1-499f-adec-7815342f4c41"
      },
      "execution_count": null,
      "outputs": [
        {
          "output_type": "stream",
          "name": "stdout",
          "text": [
            "What is the output of the following code?\n",
            "\n",
            "x = 5\n",
            "y = 3\n",
            "print(x + y)\n",
            "\n",
            "The Options Are:\n",
            "A. 8\n",
            "B. 15\n",
            "C. 2\n"
          ]
        }
      ]
    },
    {
      "cell_type": "code",
      "source": [],
      "metadata": {
        "id": "fgl53K8aqbGF"
      },
      "execution_count": null,
      "outputs": []
    }
  ]
}