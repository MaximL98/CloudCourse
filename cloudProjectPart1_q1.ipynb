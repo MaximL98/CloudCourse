{
  "nbformat": 4,
  "nbformat_minor": 0,
  "metadata": {
    "colab": {
      "provenance": [],
      "authorship_tag": "ABX9TyO2cgGwXzwOYJiZeTfenjAm",
      "include_colab_link": true
    },
    "kernelspec": {
      "name": "python3",
      "display_name": "Python 3"
    },
    "language_info": {
      "name": "python"
    }
  },
  "cells": [
    {
      "cell_type": "markdown",
      "metadata": {
        "id": "view-in-github",
        "colab_type": "text"
      },
      "source": [
        "<a href=\"https://colab.research.google.com/github/MaximL98/CloudCourse/blob/master/cloudProjectPart1_q1.ipynb\" target=\"_parent\"><img src=\"https://colab.research.google.com/assets/colab-badge.svg\" alt=\"Open In Colab\"/></a>"
      ]
    },
    {
      "cell_type": "code",
      "execution_count": 152,
      "metadata": {
        "colab": {
          "base_uri": "https://localhost:8080/"
        },
        "id": "5in-4gmSd2hG",
        "outputId": "c57f527c-10c4-41d5-d457-98f205fa8100"
      },
      "outputs": [
        {
          "output_type": "stream",
          "name": "stdout",
          "text": [
            "Drive already mounted at /content/drive; to attempt to forcibly remount, call drive.mount(\"/content/drive\", force_remount=True).\n",
            "{'Students': [{'First name': 'Maxim', 'Last name': 'Lebedinsky', 'Email': 'Maxim.Lebedinsky@e.braude.ac.il', 'Courses': 'Web, ML, AI, Cloud, Physics, Differ. Equ', 'Link': 'https://github.com/MaximL98'}]}\n",
            "Students:\t [{'First name': 'Maxim', 'Last name': 'Lebedinsky', 'Email': 'Maxim.Lebedinsky@e.braude.ac.il', 'Courses': 'Web, ML, AI, Cloud, Physics, Differ. Equ', 'Link': 'https://github.com/MaximL98'}]\n"
          ]
        }
      ],
      "source": [
        "import json\n",
        "from google.colab import drive\n",
        "drive.mount('/content/drive')\n",
        "x = {\n",
        "    \"Students\":[{\n",
        "\"First name\": \"Maxim\",\n",
        "\"Last name\": \"Lebedinsky\",\n",
        "\"Email\":\"Maxim.Lebedinsky@e.braude.ac.il\",\n",
        "\"Courses\":(\"Web, ML, AI, Cloud, Physics, Differ. Equ\"),\n",
        "\"Link\":\"https://github.com/MaximL98\"\n",
        "    }]\n",
        "}\n",
        "with open('/content/drive/MyDrive/Cloud/students.json', \"w\") as fid:\n",
        "  json.dump(x, fid)\n",
        "\n",
        "with open('/content/drive/MyDrive/Cloud/students.json', \"r\") as fid:\n",
        "  z = json.load(fid)\n",
        "print(z)\n",
        "for key in z:\n",
        "  print(key+\":\\t\", z[key])"
      ]
    },
    {
      "cell_type": "code",
      "source": [
        "import json\n",
        "#@title Student Selection\n",
        "student = \"Maxim\" #@param [\"Maxim\", \"Rotem\"] {allow-input: true}\n",
        "favoriteTvShow = \"The Boys\" #@param {type:\"string\"}\n",
        "\n",
        "\n",
        "with open('/content/drive/My Drive/Cloud/students.json', 'r') as file:\n",
        "  studentsInfo = json.load(file)\n",
        "  found = False\n",
        "  for info in studentsInfo['Students']:    \n",
        "    if info.get('First name') == student:\n",
        "      info['Favorite Tv Show'] = favoriteTvShow\n",
        "      with open('/content/drive/My Drive/Cloud/students.json', 'w') as json_file:\n",
        "          json.dump(studentsInfo, json_file)\n",
        "      found = True\n",
        "      print(info)\n",
        "  if(not found):\n",
        "    print(\"Student named {} have not been found...\".format(student))\n",
        "\n",
        "    \n",
        "\n",
        "file.close()\n",
        "\n"
      ],
      "metadata": {
        "colab": {
          "base_uri": "https://localhost:8080/"
        },
        "id": "w9P-2O1qgMgb",
        "outputId": "ad795746-3fc1-43c1-c274-e6ff6a173b3a"
      },
      "execution_count": 156,
      "outputs": [
        {
          "output_type": "stream",
          "name": "stdout",
          "text": [
            "{'First name': 'Maxim', 'Last name': 'Lebedinsky', 'Email': 'Maxim.Lebedinsky@e.braude.ac.il', 'Courses': 'Web, ML, AI, Cloud, Physics, Differ. Equ', 'Link': 'https://github.com/MaximL98', 'Favorite Tv Show': 'The Boys'}\n"
          ]
        }
      ]
    },
    {
      "cell_type": "code",
      "source": [],
      "metadata": {
        "id": "HvgZnERL421Q"
      },
      "execution_count": null,
      "outputs": []
    }
  ]
}