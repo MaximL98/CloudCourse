{
  "nbformat": 4,
  "nbformat_minor": 0,
  "metadata": {
    "colab": {
      "provenance": [],
      "authorship_tag": "ABX9TyNr5edjTd47tcW3f9WBcWNf",
      "include_colab_link": true
    },
    "kernelspec": {
      "name": "python3",
      "display_name": "Python 3"
    },
    "language_info": {
      "name": "python"
    },
    "widgets": {
      "application/vnd.jupyter.widget-state+json": {
        "f89ce8fcdd5d4d4e93e69cb4e79e2ef1": {
          "model_module": "@jupyter-widgets/controls",
          "model_name": "VBoxModel",
          "model_module_version": "1.5.0",
          "state": {
            "_dom_classes": [],
            "_model_module": "@jupyter-widgets/controls",
            "_model_module_version": "1.5.0",
            "_model_name": "VBoxModel",
            "_view_count": null,
            "_view_module": "@jupyter-widgets/controls",
            "_view_module_version": "1.5.0",
            "_view_name": "VBoxView",
            "box_style": "",
            "children": [
              "IPY_MODEL_28bfa88f5e8645c59ec29d3eb7521a86",
              "IPY_MODEL_932068a10d5c4de6b27da13548ec56f6",
              "IPY_MODEL_a09390539d9f4950a9a7260334ac9c96",
              "IPY_MODEL_6e538c79227a49d193c6b92e305d03a3",
              "IPY_MODEL_2cbf7fc53cf74afbb2fa44127f9b9a92",
              "IPY_MODEL_2ab0dbec180f406ab9c1b2ac78f67a1c"
            ],
            "layout": "IPY_MODEL_e4e70f17bb3742f1a6f92c60575ac44b"
          }
        },
        "28bfa88f5e8645c59ec29d3eb7521a86": {
          "model_module": "@jupyter-widgets/controls",
          "model_name": "HTMLModel",
          "model_module_version": "1.5.0",
          "state": {
            "_dom_classes": [],
            "_model_module": "@jupyter-widgets/controls",
            "_model_module_version": "1.5.0",
            "_model_name": "HTMLModel",
            "_view_count": null,
            "_view_module": "@jupyter-widgets/controls",
            "_view_module_version": "1.5.0",
            "_view_name": "HTMLView",
            "description": "",
            "description_tooltip": null,
            "layout": "IPY_MODEL_0ea7012b0a21429995991046234b4782",
            "placeholder": "​",
            "style": "IPY_MODEL_068d20ab130f441eb9b7e52dfe2c14b7",
            "value": "<h2 style=\"color: green;\">Student Information</h2>"
          }
        },
        "932068a10d5c4de6b27da13548ec56f6": {
          "model_module": "@jupyter-widgets/controls",
          "model_name": "TextModel",
          "model_module_version": "1.5.0",
          "state": {
            "_dom_classes": [],
            "_model_module": "@jupyter-widgets/controls",
            "_model_module_version": "1.5.0",
            "_model_name": "TextModel",
            "_view_count": null,
            "_view_module": "@jupyter-widgets/controls",
            "_view_module_version": "1.5.0",
            "_view_name": "TextView",
            "continuous_update": true,
            "description": "Name:",
            "description_tooltip": null,
            "disabled": false,
            "layout": "IPY_MODEL_4471c4acaf6d45a7bc9cff018539a408",
            "placeholder": "​",
            "style": "IPY_MODEL_a637e823ba434be0b261b5b8ed87c4a1",
            "value": "sad"
          }
        },
        "a09390539d9f4950a9a7260334ac9c96": {
          "model_module": "@jupyter-widgets/controls",
          "model_name": "TextModel",
          "model_module_version": "1.5.0",
          "state": {
            "_dom_classes": [],
            "_model_module": "@jupyter-widgets/controls",
            "_model_module_version": "1.5.0",
            "_model_name": "TextModel",
            "_view_count": null,
            "_view_module": "@jupyter-widgets/controls",
            "_view_module_version": "1.5.0",
            "_view_name": "TextView",
            "continuous_update": true,
            "description": "Last Name:",
            "description_tooltip": null,
            "disabled": false,
            "layout": "IPY_MODEL_13aaf71bcf1f4fc984f6e3dc09c8b92c",
            "placeholder": "​",
            "style": "IPY_MODEL_5dd952f200f84fd8a3c076c9cf70f3cb",
            "value": "SAD"
          }
        },
        "6e538c79227a49d193c6b92e305d03a3": {
          "model_module": "@jupyter-widgets/controls",
          "model_name": "TextModel",
          "model_module_version": "1.5.0",
          "state": {
            "_dom_classes": [],
            "_model_module": "@jupyter-widgets/controls",
            "_model_module_version": "1.5.0",
            "_model_name": "TextModel",
            "_view_count": null,
            "_view_module": "@jupyter-widgets/controls",
            "_view_module_version": "1.5.0",
            "_view_name": "TextView",
            "continuous_update": true,
            "description": "Email:",
            "description_tooltip": null,
            "disabled": false,
            "layout": "IPY_MODEL_bceec691f8b64463848dc06c2230122e",
            "placeholder": "​",
            "style": "IPY_MODEL_eab815f6754d4917adcdf8dee723bcee",
            "value": "SD"
          }
        },
        "2cbf7fc53cf74afbb2fa44127f9b9a92": {
          "model_module": "@jupyter-widgets/controls",
          "model_name": "TextModel",
          "model_module_version": "1.5.0",
          "state": {
            "_dom_classes": [],
            "_model_module": "@jupyter-widgets/controls",
            "_model_module_version": "1.5.0",
            "_model_name": "TextModel",
            "_view_count": null,
            "_view_module": "@jupyter-widgets/controls",
            "_view_module_version": "1.5.0",
            "_view_name": "TextView",
            "continuous_update": true,
            "description": "Courses:",
            "description_tooltip": null,
            "disabled": false,
            "layout": "IPY_MODEL_a8b22269fcea4dd7b627b3989cc14e5f",
            "placeholder": "​",
            "style": "IPY_MODEL_5761be20898b4fa6b29e484debcfd8b4",
            "value": "SDQ"
          }
        },
        "2ab0dbec180f406ab9c1b2ac78f67a1c": {
          "model_module": "@jupyter-widgets/controls",
          "model_name": "TextModel",
          "model_module_version": "1.5.0",
          "state": {
            "_dom_classes": [
              "flex-2"
            ],
            "_model_module": "@jupyter-widgets/controls",
            "_model_module_version": "1.5.0",
            "_model_name": "TextModel",
            "_view_count": null,
            "_view_module": "@jupyter-widgets/controls",
            "_view_module_version": "1.5.0",
            "_view_name": "TextView",
            "continuous_update": true,
            "description": "Favorite Tv Show:",
            "description_tooltip": null,
            "disabled": false,
            "layout": "IPY_MODEL_d614259f4c5e47108bea548b9d7776a1",
            "placeholder": "​",
            "style": "IPY_MODEL_5f64250945b543aa9dd56cc65e74e0ff",
            "value": "sdaw"
          }
        },
        "e4e70f17bb3742f1a6f92c60575ac44b": {
          "model_module": "@jupyter-widgets/base",
          "model_name": "LayoutModel",
          "model_module_version": "1.2.0",
          "state": {
            "_model_module": "@jupyter-widgets/base",
            "_model_module_version": "1.2.0",
            "_model_name": "LayoutModel",
            "_view_count": null,
            "_view_module": "@jupyter-widgets/base",
            "_view_module_version": "1.2.0",
            "_view_name": "LayoutView",
            "align_content": null,
            "align_items": "center",
            "align_self": null,
            "border": "solid 2px",
            "bottom": null,
            "display": "flex",
            "flex": null,
            "flex_flow": "column",
            "grid_area": null,
            "grid_auto_columns": null,
            "grid_auto_flow": null,
            "grid_auto_rows": null,
            "grid_column": null,
            "grid_gap": null,
            "grid_row": null,
            "grid_template_areas": null,
            "grid_template_columns": null,
            "grid_template_rows": null,
            "height": "auto",
            "justify_content": "center",
            "justify_items": null,
            "left": null,
            "margin": null,
            "max_height": null,
            "max_width": null,
            "min_height": null,
            "min_width": null,
            "object_fit": null,
            "object_position": null,
            "order": null,
            "overflow": "scroll",
            "overflow_x": null,
            "overflow_y": null,
            "padding": "10px",
            "right": null,
            "top": null,
            "visibility": null,
            "width": "600px"
          }
        },
        "0ea7012b0a21429995991046234b4782": {
          "model_module": "@jupyter-widgets/base",
          "model_name": "LayoutModel",
          "model_module_version": "1.2.0",
          "state": {
            "_model_module": "@jupyter-widgets/base",
            "_model_module_version": "1.2.0",
            "_model_name": "LayoutModel",
            "_view_count": null,
            "_view_module": "@jupyter-widgets/base",
            "_view_module_version": "1.2.0",
            "_view_name": "LayoutView",
            "align_content": null,
            "align_items": null,
            "align_self": null,
            "border": null,
            "bottom": null,
            "display": null,
            "flex": null,
            "flex_flow": null,
            "grid_area": null,
            "grid_auto_columns": null,
            "grid_auto_flow": null,
            "grid_auto_rows": null,
            "grid_column": null,
            "grid_gap": null,
            "grid_row": null,
            "grid_template_areas": null,
            "grid_template_columns": null,
            "grid_template_rows": null,
            "height": null,
            "justify_content": null,
            "justify_items": null,
            "left": null,
            "margin": null,
            "max_height": null,
            "max_width": null,
            "min_height": null,
            "min_width": null,
            "object_fit": null,
            "object_position": null,
            "order": null,
            "overflow": null,
            "overflow_x": null,
            "overflow_y": null,
            "padding": null,
            "right": null,
            "top": null,
            "visibility": null,
            "width": null
          }
        },
        "068d20ab130f441eb9b7e52dfe2c14b7": {
          "model_module": "@jupyter-widgets/controls",
          "model_name": "DescriptionStyleModel",
          "model_module_version": "1.5.0",
          "state": {
            "_model_module": "@jupyter-widgets/controls",
            "_model_module_version": "1.5.0",
            "_model_name": "DescriptionStyleModel",
            "_view_count": null,
            "_view_module": "@jupyter-widgets/base",
            "_view_module_version": "1.2.0",
            "_view_name": "StyleView",
            "description_width": ""
          }
        },
        "4471c4acaf6d45a7bc9cff018539a408": {
          "model_module": "@jupyter-widgets/base",
          "model_name": "LayoutModel",
          "model_module_version": "1.2.0",
          "state": {
            "_model_module": "@jupyter-widgets/base",
            "_model_module_version": "1.2.0",
            "_model_name": "LayoutModel",
            "_view_count": null,
            "_view_module": "@jupyter-widgets/base",
            "_view_module_version": "1.2.0",
            "_view_name": "LayoutView",
            "align_content": null,
            "align_items": null,
            "align_self": null,
            "border": null,
            "bottom": null,
            "display": null,
            "flex": null,
            "flex_flow": null,
            "grid_area": null,
            "grid_auto_columns": null,
            "grid_auto_flow": null,
            "grid_auto_rows": null,
            "grid_column": null,
            "grid_gap": null,
            "grid_row": null,
            "grid_template_areas": null,
            "grid_template_columns": null,
            "grid_template_rows": null,
            "height": null,
            "justify_content": null,
            "justify_items": null,
            "left": null,
            "margin": null,
            "max_height": null,
            "max_width": null,
            "min_height": null,
            "min_width": null,
            "object_fit": null,
            "object_position": null,
            "order": null,
            "overflow": null,
            "overflow_x": null,
            "overflow_y": null,
            "padding": null,
            "right": null,
            "top": null,
            "visibility": null,
            "width": null
          }
        },
        "a637e823ba434be0b261b5b8ed87c4a1": {
          "model_module": "@jupyter-widgets/controls",
          "model_name": "DescriptionStyleModel",
          "model_module_version": "1.5.0",
          "state": {
            "_model_module": "@jupyter-widgets/controls",
            "_model_module_version": "1.5.0",
            "_model_name": "DescriptionStyleModel",
            "_view_count": null,
            "_view_module": "@jupyter-widgets/base",
            "_view_module_version": "1.2.0",
            "_view_name": "StyleView",
            "description_width": ""
          }
        },
        "13aaf71bcf1f4fc984f6e3dc09c8b92c": {
          "model_module": "@jupyter-widgets/base",
          "model_name": "LayoutModel",
          "model_module_version": "1.2.0",
          "state": {
            "_model_module": "@jupyter-widgets/base",
            "_model_module_version": "1.2.0",
            "_model_name": "LayoutModel",
            "_view_count": null,
            "_view_module": "@jupyter-widgets/base",
            "_view_module_version": "1.2.0",
            "_view_name": "LayoutView",
            "align_content": null,
            "align_items": null,
            "align_self": null,
            "border": null,
            "bottom": null,
            "display": null,
            "flex": null,
            "flex_flow": null,
            "grid_area": null,
            "grid_auto_columns": null,
            "grid_auto_flow": null,
            "grid_auto_rows": null,
            "grid_column": null,
            "grid_gap": null,
            "grid_row": null,
            "grid_template_areas": null,
            "grid_template_columns": null,
            "grid_template_rows": null,
            "height": null,
            "justify_content": null,
            "justify_items": null,
            "left": null,
            "margin": null,
            "max_height": null,
            "max_width": null,
            "min_height": null,
            "min_width": null,
            "object_fit": null,
            "object_position": null,
            "order": null,
            "overflow": null,
            "overflow_x": null,
            "overflow_y": null,
            "padding": null,
            "right": null,
            "top": null,
            "visibility": null,
            "width": null
          }
        },
        "5dd952f200f84fd8a3c076c9cf70f3cb": {
          "model_module": "@jupyter-widgets/controls",
          "model_name": "DescriptionStyleModel",
          "model_module_version": "1.5.0",
          "state": {
            "_model_module": "@jupyter-widgets/controls",
            "_model_module_version": "1.5.0",
            "_model_name": "DescriptionStyleModel",
            "_view_count": null,
            "_view_module": "@jupyter-widgets/base",
            "_view_module_version": "1.2.0",
            "_view_name": "StyleView",
            "description_width": ""
          }
        },
        "bceec691f8b64463848dc06c2230122e": {
          "model_module": "@jupyter-widgets/base",
          "model_name": "LayoutModel",
          "model_module_version": "1.2.0",
          "state": {
            "_model_module": "@jupyter-widgets/base",
            "_model_module_version": "1.2.0",
            "_model_name": "LayoutModel",
            "_view_count": null,
            "_view_module": "@jupyter-widgets/base",
            "_view_module_version": "1.2.0",
            "_view_name": "LayoutView",
            "align_content": null,
            "align_items": null,
            "align_self": null,
            "border": null,
            "bottom": null,
            "display": null,
            "flex": null,
            "flex_flow": null,
            "grid_area": null,
            "grid_auto_columns": null,
            "grid_auto_flow": null,
            "grid_auto_rows": null,
            "grid_column": null,
            "grid_gap": null,
            "grid_row": null,
            "grid_template_areas": null,
            "grid_template_columns": null,
            "grid_template_rows": null,
            "height": null,
            "justify_content": null,
            "justify_items": null,
            "left": null,
            "margin": null,
            "max_height": null,
            "max_width": null,
            "min_height": null,
            "min_width": null,
            "object_fit": null,
            "object_position": null,
            "order": null,
            "overflow": null,
            "overflow_x": null,
            "overflow_y": null,
            "padding": null,
            "right": null,
            "top": null,
            "visibility": null,
            "width": null
          }
        },
        "eab815f6754d4917adcdf8dee723bcee": {
          "model_module": "@jupyter-widgets/controls",
          "model_name": "DescriptionStyleModel",
          "model_module_version": "1.5.0",
          "state": {
            "_model_module": "@jupyter-widgets/controls",
            "_model_module_version": "1.5.0",
            "_model_name": "DescriptionStyleModel",
            "_view_count": null,
            "_view_module": "@jupyter-widgets/base",
            "_view_module_version": "1.2.0",
            "_view_name": "StyleView",
            "description_width": ""
          }
        },
        "a8b22269fcea4dd7b627b3989cc14e5f": {
          "model_module": "@jupyter-widgets/base",
          "model_name": "LayoutModel",
          "model_module_version": "1.2.0",
          "state": {
            "_model_module": "@jupyter-widgets/base",
            "_model_module_version": "1.2.0",
            "_model_name": "LayoutModel",
            "_view_count": null,
            "_view_module": "@jupyter-widgets/base",
            "_view_module_version": "1.2.0",
            "_view_name": "LayoutView",
            "align_content": null,
            "align_items": null,
            "align_self": null,
            "border": null,
            "bottom": null,
            "display": null,
            "flex": null,
            "flex_flow": null,
            "grid_area": null,
            "grid_auto_columns": null,
            "grid_auto_flow": null,
            "grid_auto_rows": null,
            "grid_column": null,
            "grid_gap": null,
            "grid_row": null,
            "grid_template_areas": null,
            "grid_template_columns": null,
            "grid_template_rows": null,
            "height": null,
            "justify_content": null,
            "justify_items": null,
            "left": null,
            "margin": null,
            "max_height": null,
            "max_width": null,
            "min_height": null,
            "min_width": null,
            "object_fit": null,
            "object_position": null,
            "order": null,
            "overflow": null,
            "overflow_x": null,
            "overflow_y": null,
            "padding": null,
            "right": null,
            "top": null,
            "visibility": null,
            "width": null
          }
        },
        "5761be20898b4fa6b29e484debcfd8b4": {
          "model_module": "@jupyter-widgets/controls",
          "model_name": "DescriptionStyleModel",
          "model_module_version": "1.5.0",
          "state": {
            "_model_module": "@jupyter-widgets/controls",
            "_model_module_version": "1.5.0",
            "_model_name": "DescriptionStyleModel",
            "_view_count": null,
            "_view_module": "@jupyter-widgets/base",
            "_view_module_version": "1.2.0",
            "_view_name": "StyleView",
            "description_width": ""
          }
        },
        "d614259f4c5e47108bea548b9d7776a1": {
          "model_module": "@jupyter-widgets/base",
          "model_name": "LayoutModel",
          "model_module_version": "1.2.0",
          "state": {
            "_model_module": "@jupyter-widgets/base",
            "_model_module_version": "1.2.0",
            "_model_name": "LayoutModel",
            "_view_count": null,
            "_view_module": "@jupyter-widgets/base",
            "_view_module_version": "1.2.0",
            "_view_name": "LayoutView",
            "align_content": null,
            "align_items": null,
            "align_self": null,
            "border": null,
            "bottom": null,
            "display": null,
            "flex": null,
            "flex_flow": null,
            "grid_area": null,
            "grid_auto_columns": null,
            "grid_auto_flow": null,
            "grid_auto_rows": null,
            "grid_column": null,
            "grid_gap": null,
            "grid_row": null,
            "grid_template_areas": null,
            "grid_template_columns": null,
            "grid_template_rows": null,
            "height": null,
            "justify_content": null,
            "justify_items": null,
            "left": null,
            "margin": null,
            "max_height": null,
            "max_width": null,
            "min_height": null,
            "min_width": null,
            "object_fit": null,
            "object_position": null,
            "order": null,
            "overflow": null,
            "overflow_x": null,
            "overflow_y": null,
            "padding": null,
            "right": null,
            "top": null,
            "visibility": null,
            "width": null
          }
        },
        "5f64250945b543aa9dd56cc65e74e0ff": {
          "model_module": "@jupyter-widgets/controls",
          "model_name": "DescriptionStyleModel",
          "model_module_version": "1.5.0",
          "state": {
            "_model_module": "@jupyter-widgets/controls",
            "_model_module_version": "1.5.0",
            "_model_name": "DescriptionStyleModel",
            "_view_count": null,
            "_view_module": "@jupyter-widgets/base",
            "_view_module_version": "1.2.0",
            "_view_name": "StyleView",
            "description_width": ""
          }
        },
        "2384f6d574094466aaaa416cfcfe19a2": {
          "model_module": "@jupyter-widgets/controls",
          "model_name": "ButtonModel",
          "model_module_version": "1.5.0",
          "state": {
            "_dom_classes": [],
            "_model_module": "@jupyter-widgets/controls",
            "_model_module_version": "1.5.0",
            "_model_name": "ButtonModel",
            "_view_count": null,
            "_view_module": "@jupyter-widgets/controls",
            "_view_module_version": "1.5.0",
            "_view_name": "ButtonView",
            "button_style": "",
            "description": "Upload Data",
            "disabled": false,
            "icon": "",
            "layout": "IPY_MODEL_db594f1889704bfd874544c52a8a2dda",
            "style": "IPY_MODEL_d5c885c7d58d4091ac66930bfa512dbd",
            "tooltip": ""
          }
        },
        "db594f1889704bfd874544c52a8a2dda": {
          "model_module": "@jupyter-widgets/base",
          "model_name": "LayoutModel",
          "model_module_version": "1.2.0",
          "state": {
            "_model_module": "@jupyter-widgets/base",
            "_model_module_version": "1.2.0",
            "_model_name": "LayoutModel",
            "_view_count": null,
            "_view_module": "@jupyter-widgets/base",
            "_view_module_version": "1.2.0",
            "_view_name": "LayoutView",
            "align_content": null,
            "align_items": null,
            "align_self": null,
            "border": null,
            "bottom": null,
            "display": null,
            "flex": null,
            "flex_flow": null,
            "grid_area": null,
            "grid_auto_columns": null,
            "grid_auto_flow": null,
            "grid_auto_rows": null,
            "grid_column": null,
            "grid_gap": null,
            "grid_row": null,
            "grid_template_areas": null,
            "grid_template_columns": null,
            "grid_template_rows": null,
            "height": null,
            "justify_content": null,
            "justify_items": null,
            "left": null,
            "margin": null,
            "max_height": null,
            "max_width": null,
            "min_height": null,
            "min_width": null,
            "object_fit": null,
            "object_position": null,
            "order": null,
            "overflow": null,
            "overflow_x": null,
            "overflow_y": null,
            "padding": null,
            "right": null,
            "top": null,
            "visibility": null,
            "width": null
          }
        },
        "d5c885c7d58d4091ac66930bfa512dbd": {
          "model_module": "@jupyter-widgets/controls",
          "model_name": "ButtonStyleModel",
          "model_module_version": "1.5.0",
          "state": {
            "_model_module": "@jupyter-widgets/controls",
            "_model_module_version": "1.5.0",
            "_model_name": "ButtonStyleModel",
            "_view_count": null,
            "_view_module": "@jupyter-widgets/base",
            "_view_module_version": "1.2.0",
            "_view_name": "StyleView",
            "button_color": "green",
            "font_weight": ""
          }
        }
      }
    }
  },
  "cells": [
    {
      "cell_type": "markdown",
      "metadata": {
        "id": "view-in-github",
        "colab_type": "text"
      },
      "source": [
        "<a href=\"https://colab.research.google.com/github/MaximL98/CloudCourse/blob/master/cloudEx05Firebase.ipynb\" target=\"_parent\"><img src=\"https://colab.research.google.com/assets/colab-badge.svg\" alt=\"Open In Colab\"/></a>"
      ]
    },
    {
      "cell_type": "code",
      "execution_count": 1,
      "metadata": {
        "colab": {
          "base_uri": "https://localhost:8080/"
        },
        "id": "9nPCiRxwfDB-",
        "outputId": "b7f5a631-f2f5-462c-ec91-4c5d45cec1ca"
      },
      "outputs": [
        {
          "output_type": "stream",
          "name": "stdout",
          "text": [
            "Looking in indexes: https://pypi.org/simple, https://us-python.pkg.dev/colab-wheels/public/simple/\n",
            "Collecting firebase\n",
            "  Downloading firebase-4.0.1-py3-none-any.whl (12 kB)\n",
            "Requirement already satisfied: requests in /usr/local/lib/python3.9/dist-packages (from firebase) (2.27.1)\n",
            "Requirement already satisfied: urllib3<1.27,>=1.21.1 in /usr/local/lib/python3.9/dist-packages (from requests->firebase) (1.26.15)\n",
            "Requirement already satisfied: idna<4,>=2.5 in /usr/local/lib/python3.9/dist-packages (from requests->firebase) (3.4)\n",
            "Requirement already satisfied: charset-normalizer~=2.0.0 in /usr/local/lib/python3.9/dist-packages (from requests->firebase) (2.0.12)\n",
            "Requirement already satisfied: certifi>=2017.4.17 in /usr/local/lib/python3.9/dist-packages (from requests->firebase) (2022.12.7)\n",
            "Installing collected packages: firebase\n",
            "Successfully installed firebase-4.0.1\n"
          ]
        }
      ],
      "source": [
        "!pip install firebase"
      ]
    },
    {
      "cell_type": "code",
      "source": [
        "from firebase import firebase\n",
        "FBconn = firebase.FirebaseApplication('https://cloudex05-default-rtdb.firebaseio.com/',None)\n",
        "while True:\n",
        "  temperature = int (input (\"what is the temperature?\"))\n",
        "  data_to_upload = {'Temp' : temperature}\n",
        "  result = FBconn.post('/temperature/',data_to_upload)\n",
        "  print(result)"
      ],
      "metadata": {
        "colab": {
          "base_uri": "https://localhost:8080/"
        },
        "id": "yTlrTGReflDn",
        "outputId": "944b0149-d449-4047-d928-604939e3ada2"
      },
      "execution_count": null,
      "outputs": [
        {
          "output_type": "stream",
          "name": "stdout",
          "text": [
            "what is the temperature?30\n",
            "{'name': '-NTSVuI3vegv-wwavwkW'}\n"
          ]
        }
      ]
    },
    {
      "cell_type": "code",
      "source": [
        "from firebase import firebase\n",
        "firebase = firebase.FirebaseApplication('https://cloudex05-default-rtdb.firebaseio.com/', None)\n",
        "result = firebase.get('/temperature', None)\n",
        "print(type(result))\n",
        "print(result)"
      ],
      "metadata": {
        "colab": {
          "base_uri": "https://localhost:8080/"
        },
        "id": "k3iLlDOMi_NT",
        "outputId": "880f6d1a-7474-4b7b-bca2-36cdeba59541"
      },
      "execution_count": null,
      "outputs": [
        {
          "output_type": "stream",
          "name": "stdout",
          "text": [
            "<class 'dict'>\n",
            "{'-NTNXfP6YHZdXZnvsdKR': {'Temp': 23}, '-NTNYNz-tQWN15veNBsm': {'Temp': 15}, '-NTNYOghsFuPsFdXsAc-': {'Temp': 9}, '-NTNYPMGdv6Ir67WQJla': {'Temp': -19}}\n"
          ]
        }
      ]
    },
    {
      "cell_type": "code",
      "source": [
        "import json \n",
        "from firebase import firebase\n",
        "FBconn = firebase.FirebaseApplication('https://cloudex05-default-rtdb.firebaseio.com/temperature',None)\n",
        "res=FBconn.get('/temperature/',None)\n",
        "for key in res:\n",
        "  print(key+\":\\t\", res[key])"
      ],
      "metadata": {
        "colab": {
          "base_uri": "https://localhost:8080/"
        },
        "id": "Fuz7fszKjuly",
        "outputId": "e431d100-a3eb-44dc-c439-7ed30544b167"
      },
      "execution_count": null,
      "outputs": [
        {
          "output_type": "stream",
          "name": "stdout",
          "text": [
            "-NTNXfP6YHZdXZnvsdKR:\t {'Temp': 23}\n",
            "-NTNYNz-tQWN15veNBsm:\t {'Temp': 15}\n",
            "-NTNYOghsFuPsFdXsAc-:\t {'Temp': 9}\n",
            "-NTNYPMGdv6Ir67WQJla:\t {'Temp': -19}\n"
          ]
        }
      ]
    },
    {
      "cell_type": "code",
      "source": [
        "#@title Cloud Ex Firebase\n",
        "name = \"dima\" #@param {type:\"string\"}\n",
        "lastName = \"kyn\" #@param {type:\"string\"}\n",
        "email = \"asd@gmail.com\" #@param {type:\"string\"}\n",
        "courses = \"16naz, web, mishdif\" #@param {type:\"string\"}\n",
        "favoriteTvShow = \"How i met your mom\" #@param {type:\"string\"}\n",
        "\n",
        "import ipywidgets as widgets\n",
        "from IPython.display import display\n",
        "from firebase import firebase\n",
        "FBconn = firebase.FirebaseApplication('https://cloudex05-default-rtdb.firebaseio.com/',None)\n",
        "\n",
        "data_to_upload = {'Name' : name,\n",
        "                  'Last name': lastName,\n",
        "                  'Email' : email,\n",
        "                  'Courses' : courses.split(\",\"),\n",
        "                  'Favorite Tv Show' : favoriteTvShow,\n",
        "                  '.priority': None}\n",
        "\n",
        "result = FBconn.post('/StudentInfo/',data_to_upload)\n",
        "print(result)"
      ],
      "metadata": {
        "colab": {
          "base_uri": "https://localhost:8080/"
        },
        "id": "QQuwKC80ke2-",
        "outputId": "1d3e7367-7cd6-4f11-da7d-30ac75f308e7"
      },
      "execution_count": null,
      "outputs": [
        {
          "output_type": "stream",
          "name": "stdout",
          "text": [
            "{'name': '-NTNbJh-Vxgpr2UGrqzP'}\n"
          ]
        }
      ]
    },
    {
      "cell_type": "code",
      "source": [
        "import ipywidgets as widgets\n",
        "import json\n",
        "from IPython.display import display, HTML\n",
        "from firebase import firebase\n",
        "import time\n",
        "\n",
        "\n",
        "name = widgets.Text(description='Name:')\n",
        "lastName = widgets.Text(description='Last Name:')\n",
        "email = widgets.Text(description='Email:')\n",
        "courses = widgets.Text(description='Courses:')\n",
        "favoriteTvShow = widgets.Text(description='Favorite Tv Show:')\n",
        "upload = widgets.Button(description='Upload Data')\n",
        "upload.style.button_color = 'green'\n",
        "FBconn = firebase.FirebaseApplication('https://cloudex05-default-rtdb.firebaseio.com/',None)\n",
        "\n",
        "data_to_upload = {}\n",
        "\n",
        "def handel_upload(Button):\n",
        "    # Data validation and error handling code here...\n",
        "\n",
        "    data_to_upload = {\n",
        "        'Name': name.value,\n",
        "        'Last name': lastName.value,\n",
        "        'Email': email.value,\n",
        "        'Courses': courses.value,\n",
        "        'Favorite Tv Show': favoriteTvShow.value,\n",
        "    }\n",
        "\n",
        "    # Generate a timestamp as a key\n",
        "    timestamp = int(time.time() * 1000)\n",
        "    key = str(timestamp)\n",
        "\n",
        "    # Upload the student data to Firebase using the timestamp as a key\n",
        "    try:\n",
        "        result = FBconn.put('/StudentInfo', key, data_to_upload)\n",
        "        print(result)\n",
        "    except Exception as e:\n",
        "        print(f\"Error uploading data: {e}\")\n",
        "\n",
        "\n",
        "\n",
        "upload.on_click(handel_upload)\n",
        "\n",
        "title = widgets.HTML(value='<h2 style=\"color: green;\">Student Information</h2>')\n",
        "# Style the VBox\n",
        "layout = widgets.Layout(border='solid 2px', padding='10px', width='auto', align_items='center', justify_content='center',\n",
        "                        height='auto', display='flex', flex_flow='column', background_color='lightgray', overflow='scroll')# Group the text widgets in a VBox with style\n",
        "text_box = widgets.VBox([title, name, lastName, email, courses, favoriteTvShow], layout=layout)\n",
        "# Set the width of the VBox\n",
        "text_box.layout.width = '600px'\n",
        "\n",
        "# Set the CSS style for the label of the \"Favorite Tv Show\" widget\n",
        "display(HTML(\"\"\"\n",
        "<style>\n",
        ".widget-label[for=\"Favorite Tv Show\"] {\n",
        "    white-space: normal !important;\n",
        "    display: block !important;\n",
        "    font-size: 20px;\n",
        "}\n",
        ".widget-box {\n",
        "    margin-bottom: 10px;\n",
        "}\n",
        ".flex-2 {\n",
        "    flex: 2;\n",
        "}\n",
        "</style>\n",
        "\"\"\"))\n",
        "\n",
        "# Adjust the flex value of the \"Favorite Tv Show\" widget\n",
        "favoriteTvShow.add_class('flex-2')\n",
        "\n",
        "display(text_box, upload)"
      ],
      "metadata": {
        "colab": {
          "base_uri": "https://localhost:8080/",
          "height": 314,
          "referenced_widgets": [
            "f89ce8fcdd5d4d4e93e69cb4e79e2ef1",
            "28bfa88f5e8645c59ec29d3eb7521a86",
            "932068a10d5c4de6b27da13548ec56f6",
            "a09390539d9f4950a9a7260334ac9c96",
            "6e538c79227a49d193c6b92e305d03a3",
            "2cbf7fc53cf74afbb2fa44127f9b9a92",
            "2ab0dbec180f406ab9c1b2ac78f67a1c",
            "e4e70f17bb3742f1a6f92c60575ac44b",
            "0ea7012b0a21429995991046234b4782",
            "068d20ab130f441eb9b7e52dfe2c14b7",
            "4471c4acaf6d45a7bc9cff018539a408",
            "a637e823ba434be0b261b5b8ed87c4a1",
            "13aaf71bcf1f4fc984f6e3dc09c8b92c",
            "5dd952f200f84fd8a3c076c9cf70f3cb",
            "bceec691f8b64463848dc06c2230122e",
            "eab815f6754d4917adcdf8dee723bcee",
            "a8b22269fcea4dd7b627b3989cc14e5f",
            "5761be20898b4fa6b29e484debcfd8b4",
            "d614259f4c5e47108bea548b9d7776a1",
            "5f64250945b543aa9dd56cc65e74e0ff",
            "2384f6d574094466aaaa416cfcfe19a2",
            "db594f1889704bfd874544c52a8a2dda",
            "d5c885c7d58d4091ac66930bfa512dbd"
          ]
        },
        "id": "WfP9qRabomxH",
        "outputId": "8e70aaee-957a-4ef4-ca86-f053a414ca4f"
      },
      "execution_count": 10,
      "outputs": [
        {
          "output_type": "display_data",
          "data": {
            "text/plain": [
              "<IPython.core.display.HTML object>"
            ],
            "text/html": [
              "\n",
              "<style>\n",
              ".widget-label[for=\"Favorite Tv Show\"] {\n",
              "    white-space: normal !important;\n",
              "    display: block !important;\n",
              "    font-size: 20px;\n",
              "}\n",
              ".widget-box {\n",
              "    margin-bottom: 10px;\n",
              "}\n",
              ".flex-2 {\n",
              "    flex: 2;\n",
              "}\n",
              "</style>\n"
            ]
          },
          "metadata": {}
        },
        {
          "output_type": "display_data",
          "data": {
            "text/plain": [
              "VBox(children=(HTML(value='<h2 style=\"color: green;\">Student Information</h2>'), Text(value='', description='N…"
            ],
            "application/vnd.jupyter.widget-view+json": {
              "version_major": 2,
              "version_minor": 0,
              "model_id": "f89ce8fcdd5d4d4e93e69cb4e79e2ef1"
            }
          },
          "metadata": {}
        },
        {
          "output_type": "display_data",
          "data": {
            "text/plain": [
              "Button(description='Upload Data', style=ButtonStyle(button_color='green'))"
            ],
            "application/vnd.jupyter.widget-view+json": {
              "version_major": 2,
              "version_minor": 0,
              "model_id": "2384f6d574094466aaaa416cfcfe19a2"
            }
          },
          "metadata": {}
        },
        {
          "output_type": "stream",
          "name": "stdout",
          "text": [
            "{'Courses': 'SDQ', 'Email': 'SD', 'Favorite Tv Show': 'sdaw', 'Last name': 'SAD', 'Name': 'sad'}\n"
          ]
        }
      ]
    }
  ]
}